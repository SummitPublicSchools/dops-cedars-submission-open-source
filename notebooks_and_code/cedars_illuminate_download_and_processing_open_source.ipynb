{
 "cells": [
  {
   "cell_type": "markdown",
   "metadata": {},
   "source": [
    "# Illuminate to CEDARS Preprocessing for Submission"
   ]
  },
  {
   "cell_type": "markdown",
   "metadata": {},
   "source": [
    "## Imports"
   ]
  },
  {
   "cell_type": "code",
   "execution_count": null,
   "metadata": {
    "collapsed": true
   },
   "outputs": [],
   "source": [
    "import sys\n",
    "if sys.version_info[0] < 3:\n",
    "    import ConfigParser\n",
    "else:\n",
    "    import configparser\n",
    "from glob import glob\n",
    "from tqdm import tqdm_notebook\n",
    "from os.path import basename\n",
    "import os\n",
    "import time\n",
    "import datetime as dt\n",
    "import zipfile\n",
    "import paramiko\n",
    "\n",
    "from selenium import webdriver\n",
    "from selenium.webdriver.support.ui import Select\n",
    "from selenium.webdriver.common.keys import Keys\n",
    "from selenium.webdriver.support.ui import WebDriverWait\n",
    "from selenium.webdriver.support import expected_conditions as EC\n",
    "from selenium.webdriver.common.by import By"
   ]
  },
  {
   "cell_type": "markdown",
   "metadata": {},
   "source": [
    "### Helper functions"
   ]
  },
  {
   "cell_type": "code",
   "execution_count": null,
   "metadata": {
    "collapsed": true
   },
   "outputs": [],
   "source": [
    "def load_config(config_path = None):\n",
    "\n",
    "    global config\n",
    "\n",
    "    if sys.version_info[0] < 3:\n",
    "        config = ConfigParser.ConfigParser()\n",
    "    else:\n",
    "        config = configparser.ConfigParser()\n",
    "\n",
    "    if config_path is None:\n",
    "        config.read(\"../config/config.ini\")\n",
    "    else:\n",
    "        config.read(config_path)\n",
    "\n",
    "    return config\n",
    "\n",
    "def config_section_map(section):\n",
    "    dict1 = {}\n",
    "    options = config.options(section)\n",
    "    for option in options:\n",
    "        try:\n",
    "            dict1[option] = config.get(section, option)\n",
    "            if dict1[option] == -1:\n",
    "                DebugPrint(\"skip: %s\" % option)\n",
    "        except:\n",
    "            print(\"exception on %s!\" % option)\n",
    "            dict1[option] = None\n",
    "    return dict1\n",
    "\n",
    "def connect_to_sftp(host, port, username, password):\n",
    "    \"\"\"\n",
    "    Function for connecting to SFTP using Paramiko. Returns a Paramiko SFTP object\n",
    "    If you do not have Paramiko, enter \"pip install paramiko\" into your CMD\n",
    "    \"\"\"\n",
    "\n",
    "    # Create a transport object with given host and port\n",
    "    transport = paramiko.Transport((host, port))\n",
    "\n",
    "    # Authorize transport with given username and password\n",
    "    transport.connect(username = username, password = password)\n",
    "\n",
    "    # Return an SFTP object from transport\n",
    "    return paramiko.SFTPClient.from_transport(transport)\n",
    "\n",
    "def configure_selenium_chrome(download_folder_path=None):\n",
    "    options = webdriver.ChromeOptions()\n",
    "    options.add_argument(\"window-size=1600,900\")\n",
    "    if download_folder_path:\n",
    "        prefs = {\n",
    "            \"profile.default_content_settings.popups\": 0,\n",
    "            \"download.default_directory\": os.path.abspath(download_folder_path)\n",
    "        }\n",
    "        options.add_experimental_option(\"prefs\", prefs)\n",
    "    return webdriver.Chrome(chrome_options=options)\n",
    "\n",
    "def get_most_recent_file_in_dir(folder_path):\n",
    "    \"\"\"Returns the most recently changed file in a folder.\n",
    "\n",
    "    Args:\n",
    "        folder_path: The path to the folder to search\n",
    "    Returns:\n",
    "        A string with the filename of the most recently changed file in the\n",
    "        folder.\n",
    "    \"\"\"\n",
    "    # * means all if need specific format then *.csv\n",
    "    list_of_files = glob(folder_path + '/*')\n",
    "    latest_file = max(list_of_files, key=os.path.getctime)\n",
    "    return latest_file"
   ]
  },
  {
   "cell_type": "markdown",
   "metadata": {},
   "source": [
    "## Download Files from Illuminate"
   ]
  },
  {
   "cell_type": "code",
   "execution_count": null,
   "metadata": {
    "collapsed": true
   },
   "outputs": [],
   "source": [
    "conf = load_config('../config/config.ini')"
   ]
  },
  {
   "cell_type": "code",
   "execution_count": null,
   "metadata": {
    "collapsed": true
   },
   "outputs": [],
   "source": [
    "#Illuminate UI credentials\n",
    "illuminate_url = config_section_map(\"Illuminate\")['url']\n",
    "illuminate_username = config_section_map(\"Illuminate\")['username']\n",
    "illuminate_password = config_section_map(\"Illuminate\")['password']"
   ]
  },
  {
   "cell_type": "code",
   "execution_count": null,
   "metadata": {
    "collapsed": true
   },
   "outputs": [],
   "source": [
    "schoolyear_option = config_section_map(\"General\")['schoolyear']\n",
    "generation_wait = config_section_map(\"General\")['file_generation_wait']\n",
    "\n",
    "# Folder options for naming and file paths\n",
    "folder_date = dt.date.today().strftime('%Y%m%d')\n",
    "district_site = '_0000_' #MIGHT NEED TO UPDATE THIS IN A NON-SUMMIT CONTEXT\n",
    "date_and_year = '_' + folder_date + '_' + schoolyear_option[:2] + str(int(schoolyear_option[2:]) - 1) + schoolyear_option\n",
    "folder_stem = district_site + 'CEDARS' + date_and_year"
   ]
  },
  {
   "cell_type": "code",
   "execution_count": null,
   "metadata": {
    "collapsed": true
   },
   "outputs": [],
   "source": [
    "# District options\n",
    "districts = [\n",
    "    {'name':config_section_map(\"Illuminate\")['district_name'], \n",
    "     'option':config_section_map(\"Illuminate\")['district_site_id'],\n",
    "     'id':config_section_map(\"CEDARS SFTP\")['district'], \n",
    "     'folder':config_section_map(\"CEDARS SFTP\")['district'] + folder_stem}\n",
    "] "
   ]
  },
  {
   "cell_type": "code",
   "execution_count": null,
   "metadata": {
    "collapsed": true
   },
   "outputs": [],
   "source": [
    "# A list of dictionaries with the names of the files, the url to get to the report, the stem in the file name, and the \n",
    "# Illuminate download name\n",
    "reports = [\n",
    "    {'name':'2017-2018 CEDARS A. Locations',\n",
    "        'url':'https://summitwa.illuminateed.com/live/?report_id=3535&page=ReportsCreatorState',\n",
    "         'file_stem':district_site + 'Location' + date_and_year},\n",
    "    {'name':'2017-2018 CEDARS B. District Students (NEW)',\n",
    "        'url':'https://summitwa.illuminateed.com/live/?report_id=3468&page=ReportsCreatorState',\n",
    "         'file_stem':district_site + 'DistrictStudent' + date_and_year},\n",
    "    {'name':'2017-2018 CEDARS C. School Students',\n",
    "        'url':'https://summitwa.illuminateed.com/live/?report_id=3410&page=ReportsCreatorState',\n",
    "         'file_stem':district_site + 'SchoolStudent' + date_and_year},\n",
    "    {'name':'2017-2018 CEDARS D. Course Catalog',\n",
    "        'url':'https://summitwa.illuminateed.com/live/?report_id=3582&page=ReportsCreatorState',\n",
    "         'file_stem':district_site + 'CourseCatalog' + date_and_year},\n",
    "    {'name':'2017-2018 CEDARS E. Student Schedule',\n",
    "        'url':'https://summitwa.illuminateed.com/live/?report_id=3331&page=ReportsCreatorState',\n",
    "         'file_stem':district_site + 'StudentSchedule' + date_and_year},\n",
    "    {'name':'2017-2018 CEDARS F. Staff',\n",
    "        'url':'https://summitwa.illuminateed.com/live/?report_id=3332&page=ReportsCreatorState',\n",
    "         'file_stem':district_site + 'Staff' + date_and_year},\n",
    "    {'name':'2017-2018 CEDARS G. Staff Schedule',\n",
    "        'url':'https://summitwa.illuminateed.com/live/?report_id=3467&page=ReportsCreatorState',\n",
    "         'file_stem':district_site + 'StaffSchedule' + date_and_year},\n",
    "    {'name':'CEDARS H. Student Grade History (NEW)',\n",
    "        'url':'https://summitwa.illuminateed.com/live/?action=studentGradeHistory&page=StateReporting_Wa_Cedars',\n",
    "         'file_stem':district_site + 'StudentGradeHistory' + date_and_year},\n",
    "    {'name':'2017-2018 CEDARS I. Student Programs',\n",
    "        'url':'https://summitwa.illuminateed.com/live/?report_id=3465&page=ReportsCreatorState',\n",
    "         'file_stem':district_site + 'StudentPrograms' + date_and_year},\n",
    "    {'name':'2017-2018 CEDARS J. English Learners',\n",
    "        'url':'https://summitwa.illuminateed.com/live/?report_id=3594&page=ReportsCreatorState',\n",
    "         'file_stem':district_site + 'BilingualPrograms' + date_and_year},\n",
    "    {'name':'2017-2018 CEDARS K. Student Special Ed',\n",
    "        'url':'https://summitwa.illuminateed.com/live/?report_id=3624&page=ReportsCreatorState',\n",
    "         'file_stem':district_site + 'SpecEdPrograms' + date_and_year},\n",
    "    {'name':'2017-2018 CEDARS L. Student Ethnicity',\n",
    "        'url':'https://summitwa.illuminateed.com/live/?report_id=3333&page=ReportsCreatorState',\n",
    "         'file_stem':district_site + 'StudentEthnicity' + date_and_year},\n",
    "    {'name':'2017-2018 CEDARS M. Student Race',\n",
    "        'url':'https://summitwa.illuminateed.com/live/?report_id=3466&page=ReportsCreatorState',\n",
    "         'file_stem':district_site + 'StudentRace' + date_and_year},\n",
    "    {'name':'2017-2018 CEDARS N. Student Absence',\n",
    "        'url':'https://summitwa.illuminateed.com/live/?report_id=3456&page=ReportsCreatorState',\n",
    "         'file_stem':district_site + 'StudentAbsence' + date_and_year},\n",
    "    {'name':'2017-2018 CEDARS P. Student Discipline',\n",
    "        'url':'https://summitwa.illuminateed.com/live/?report_id=3595&page=ReportsCreatorState',\n",
    "         'file_stem':district_site + 'StudentDiscipline' + date_and_year},\n",
    "    {'name':'2017-2018 CEDARS Q. Learning Assistance Program Student Growth',\n",
    "        'url':'https://summitwa.illuminateed.com/live/?report_id=3577&page=ReportsCreatorState',\n",
    "         'file_stem':district_site + 'LAPStudentGrowth' + date_and_year},\n",
    "]\n"
   ]
  },
  {
   "cell_type": "code",
   "execution_count": null,
   "metadata": {
    "collapsed": true
   },
   "outputs": [],
   "source": [
    "# Logs in to Illuminate\n",
    "def login_to_illuminate_selenium(driver, host, username, password):\n",
    "    sign_in_url = host + '/live/?prev_page=Main_NotDashboardPage&page=SisLogin'\n",
    "    driver.get(sign_in_url)\n",
    "    time.sleep(5)\n",
    "    assert \"Illuminate Education\" in driver.title\n",
    "    elem = driver.find_element_by_id(\"username\")\n",
    "    elem.clear()\n",
    "    elem.send_keys(username)\n",
    "    elem = driver.find_element_by_id(\"password\")\n",
    "    elem.send_keys(password)\n",
    "    elem.send_keys(Keys.RETURN) # actuate the 'next' key that shows which district site to log in to\n",
    "    time.sleep(3)\n",
    "    elem = driver.find_element_by_id(\"button_login\") # actuate the 'login' key (we can just log in using the default site)\n",
    "    elem.click()\n",
    "    time.sleep(3)"
   ]
  },
  {
   "cell_type": "code",
   "execution_count": null,
   "metadata": {
    "collapsed": true
   },
   "outputs": [],
   "source": [
    "# Waits a certain amount of time until a specific file is in a folder given the file path\n",
    "def wait_for_new_file_in_folder(file_path, wait):\n",
    "    \"\"\" Waits until a specific file shows up in a folder.\n",
    "    \"\"\"\n",
    "    file_found = False\n",
    "    start = time.time()\n",
    "    while True:\n",
    "        stop = time.time()\n",
    "        time_elapsed = start - stop\n",
    "        if time_elapsed < wait:\n",
    "            if os.path.isfile(file_path):\n",
    "                time.sleep(1)\n",
    "                break\n",
    "            else:\n",
    "                continue\n",
    "        else:\n",
    "            print('error: timed out')\n",
    "            break\n",
    "    "
   ]
  },
  {
   "cell_type": "code",
   "execution_count": null,
   "metadata": {
    "collapsed": true
   },
   "outputs": [],
   "source": [
    "# Downloads one CEDARS file for one district\n",
    "def download_one_CEDARS_file(driver, file, district, download_folder, district_folder):\n",
    "    # Go to the report\n",
    "    driver.get(file['url'])\n",
    "    \n",
    "    # Choose the district \n",
    "    try:\n",
    "        districtSelect = Select(driver.find_element_by_id('SITE_ID'))\n",
    "    except:\n",
    "        districtSelect = Select(driver.find_element_by_id('site_id'))\n",
    "    districtSelect.select_by_value(str(district['option']))\n",
    "    \n",
    "    # Choose the academic year\n",
    "    try:\n",
    "        yearSelect = Select(driver.find_element_by_id('ACADEMIC_YEAR'))\n",
    "    except:\n",
    "        yearSelect = Select(driver.find_element_by_id('academic_year'))\n",
    "    yearSelect.select_by_value(str(schoolyear_option))\n",
    "    \n",
    "    # Choose date if option is there\n",
    "    try:\n",
    "        as_of_date = dt.date.today().strftime('%m/%d/%Y') \n",
    "        elem = driver.find_element_by_id('AS_OF_DATE')\n",
    "        elem.click()\n",
    "        elem.send_keys(as_of_date)\n",
    "        time.sleep(2)\n",
    "    except:\n",
    "        pass\n",
    "    \n",
    "    # Generate report\n",
    "    elem = driver.find_element_by_id('form_submit')\n",
    "    elem.click()\n",
    "    #time.sleep(10)\n",
    "    \n",
    "    # Download the file\n",
    "    try:\n",
    "        # Click on 'More...' for the download\n",
    "        div_class = 'dataTables_wrapper form-inline'\n",
    "        div_class_2 = 'row_fluid'\n",
    "        button_class = 'btn btn-mini datatable-more-downloads'\n",
    "        #xpath = \"//div[@class='\" + div_class + \"']/div[@class='\" + div_class_2 + \"'//button[@class='\" + button_class + \"']\"\n",
    "        xpath = \"//div[@class='\" + div_class + \"']//button[1]\"\n",
    "        elem = WebDriverWait(driver, generation_wait).until(EC.presence_of_element_located((By.XPATH, xpath)))\n",
    "        elem.click()\n",
    "        time.sleep(2)\n",
    "\n",
    "        # Choose CEDARS or tab delimited with header\n",
    "        try: \n",
    "            xpath = \"//input[@value='Cedars']\"\n",
    "            elem = WebDriverWait(driver, 20).until(EC.presence_of_element_located((By.XPATH, xpath)))\n",
    "            elem.click()\n",
    "        except:\n",
    "            elem = driver.find_element_by_link_text('Delimited')\n",
    "            elem.click()\n",
    "        time.sleep(5)\n",
    "\n",
    "        # Click download\n",
    "        xpath = \"//input[@value='Download']\"\n",
    "        elem = WebDriverWait(driver, 10).until(EC.presence_of_element_located((By.XPATH, xpath)))\n",
    "        elem.click() \n",
    "        \n",
    "        # Wait until file is downloaded (built in exception for edge case of file h)\n",
    "        if file['name'] == 'CEDARS H. Student Grade History (NEW)':\n",
    "            time.sleep(10)\n",
    "        else:\n",
    "            wait_for_new_file_in_folder(download_folder + '/' + file['file_stem'] + '.txt', 10)\n",
    "        \n",
    "    except:\n",
    "        raise\n",
    "    \n",
    "    # Rename the file\n",
    "    recent_file = get_most_recent_file_in_dir(download_folder)\n",
    "    new_file = district_folder + '/' + district['id'] + file['file_stem'] + '.txt'\n",
    "    os.rename(recent_file, new_file)\n",
    "    \n",
    "    print('- success - ', file['name'])"
   ]
  },
  {
   "cell_type": "code",
   "execution_count": null,
   "metadata": {
    "collapsed": true
   },
   "outputs": [],
   "source": [
    "# Downloads all CEDARS files for one district\n",
    "def download_one_district(driver, reports, district, download_folder):\n",
    "    print('Downloading files for ', district['name'], ' . . .')\n",
    "    # Create district folder or ignore if it exists\n",
    "    district_folder = download_folder + '/' + district['folder']\n",
    "    os.makedirs(district_folder, exist_ok=True)\n",
    "    \n",
    "    # Download all the files\n",
    "    for file in tqdm_notebook(reports, total=len(reports)):\n",
    "        download_one_CEDARS_file(driver, file, district, download_folder, district_folder)\n",
    "    print('-----------------------')"
   ]
  },
  {
   "cell_type": "code",
   "execution_count": null,
   "metadata": {
    "collapsed": true
   },
   "outputs": [],
   "source": [
    "# Downloads all CEDARS files for all districts\n",
    "def download_all_districts(driver, reports, districts, download_folder):  \n",
    "    # Download files for each district\n",
    "    for district in tqdm_notebook(districts, total=len(districts)):\n",
    "        download_one_district(driver, reports, district, download_folder)"
   ]
  },
  {
   "cell_type": "code",
   "execution_count": null,
   "metadata": {
    "collapsed": true
   },
   "outputs": [],
   "source": [
    "# Create today's download folder or ignore if it exists\n",
    "download_folder = config_section_map(\"General\")['dex_output_dir'] + folder_stem[13:]\n",
    "os.makedirs(download_folder, exist_ok=True)"
   ]
  },
  {
   "cell_type": "code",
   "execution_count": null,
   "metadata": {
    "collapsed": true
   },
   "outputs": [],
   "source": [
    "# Start Chrome driver\n",
    "driver = configure_selenium_chrome(download_folder)"
   ]
  },
  {
   "cell_type": "code",
   "execution_count": null,
   "metadata": {
    "collapsed": true
   },
   "outputs": [],
   "source": [
    "# Login to Illuminate\n",
    "login_to_illuminate_selenium(driver, illuminate_url,\n",
    "                                    illuminate_username, illuminate_password)"
   ]
  },
  {
   "cell_type": "code",
   "execution_count": null,
   "metadata": {
    "collapsed": true
   },
   "outputs": [],
   "source": [
    "# Download the files\n",
    "download_all_district(driver, reports, district, download_folder)"
   ]
  },
  {
   "cell_type": "code",
   "execution_count": null,
   "metadata": {
    "collapsed": true
   },
   "outputs": [],
   "source": [
    "# Close the driver\n",
    "driver.close()"
   ]
  },
  {
   "cell_type": "markdown",
   "metadata": {},
   "source": [
    "## Manual Processing"
   ]
  },
  {
   "cell_type": "markdown",
   "metadata": {},
   "source": [
    "!!!! Before you run the cells below, do any manual processing you need to do or swap in any files that need to be swapped !!!\n",
    "---------------------------------------"
   ]
  },
  {
   "cell_type": "markdown",
   "metadata": {},
   "source": [
    "## Zip files"
   ]
  },
  {
   "cell_type": "code",
   "execution_count": null,
   "metadata": {
    "collapsed": true
   },
   "outputs": [],
   "source": [
    "# Zip the files for each district\n",
    "for district in districts:\n",
    "    \n",
    "    # Create the zip\n",
    "    district_folder = download_folder + '/' + district['folder']\n",
    "    zipp = zipfile.ZipFile(district_folder + '.zip','w')\n",
    "    \n",
    "    # Add each file to zip \n",
    "    for root, dirs, files in os.walk(district_folder):\n",
    "        for name in files:\n",
    "            # The basename argument allows you to zip the files at baselevel without parent directories\n",
    "            zipp.write(os.path.join(root, name), basename(os.path.join(root, name))) \n",
    "            \n",
    "    # Close the file\n",
    "    zipp.close()"
   ]
  },
  {
   "cell_type": "markdown",
   "metadata": {
    "collapsed": true
   },
   "source": [
    "## Transfer the files to the SFTP server for submission"
   ]
  },
  {
   "cell_type": "markdown",
   "metadata": {},
   "source": [
    "### Setup SFTP object"
   ]
  },
  {
   "cell_type": "code",
   "execution_count": null,
   "metadata": {
    "collapsed": true
   },
   "outputs": [],
   "source": [
    "# Create log file\n",
    "paramiko.util.log_to_file('paramiko_log.log')\n",
    "\n",
    "# Set variables for connect_to_sftp() from config file\n",
    "# NOTE: must set port to integer!\n",
    "host = config_section_map(\"CEDARS SFTP\")['host']\n",
    "port = int(config_section_map(\"CEDARS SFTP\")['port'])\n",
    "username = config_section_map(\"CEDARS SFTP\")['username']\n",
    "password = config_section_map(\"CEDARS SFTP\")['password']\n",
    "\n",
    "# Set sftp variable to paramiko SFTP object returned by connect_to_sftp()\n",
    "sftp = connect_to_sftp(host, port, username, password)"
   ]
  },
  {
   "cell_type": "markdown",
   "metadata": {},
   "source": [
    "### Create parameters for files and paths for pushing files to SFTP server"
   ]
  },
  {
   "cell_type": "code",
   "execution_count": null,
   "metadata": {
    "collapsed": true
   },
   "outputs": [],
   "source": [
    "# Create date and district year combo for file names and folder names\n",
    "#next_year_object = dt.datetime.today() + dt.timedelta(days=365)\n",
    "#next_year = next_year_object.strftime('%Y')\n",
    "#dateyear = dt.datetime.today().strftime('%Y%m%d_%Y') + next_year\n",
    "dateyear = dt.datetime.today().strftime('%Y%m%d_') + config_section_map(\"CEDARS SFTP\")['school_year']\n",
    "\n",
    "\n",
    "# Create a list of files to transfer based on CEDARS naming conventions and today's date\n",
    "district = config_section_map(\"CEDARS SFTP\")['district'].split(', ')\n",
    "filenames = []\n",
    "for d in district:\n",
    "    filenames.append(str(d) + district_site + 'CEDARS_' + dateyear + '.zip')\n",
    "\n",
    "# Set SFTP server filepath based off remotepath_folder in config file\n",
    "remotepath_folder = config_section_map(\"CEDARS SFTP\")['remotepath_folder']\n",
    "\n",
    "# Set filepath folder on local machine to localpath_folder designated in config file\n",
    "localpath_folder = config_section_map(\"CEDARS SFTP\")['localpath_folder'] + dateyear + '/'\n",
    "\n",
    "# Create a list of local filepaths based off of the localpath_folder and filenames list\n",
    "localpaths = []\n",
    "for f in filenames:\n",
    "    localpaths.append(os.path.abspath(localpath_folder + f))\n",
    "\n",
    "# Create a list of remote filepaths based off of the remotepath_folder and filenames list\n",
    "remotepaths = []\n",
    "for f in filenames:\n",
    "    remotepaths.append(remotepath_folder + f)"
   ]
  },
  {
   "cell_type": "markdown",
   "metadata": {},
   "source": [
    "### Push files to SFTP"
   ]
  },
  {
   "cell_type": "code",
   "execution_count": null,
   "metadata": {
    "collapsed": true
   },
   "outputs": [],
   "source": [
    "# Push files from localpath_folder to remotepath_folder\n",
    "for i, file in enumerate(localpaths):\n",
    "    sftp.put(file, remotepaths[i])\n",
    "    print('Success: ', file)"
   ]
  },
  {
   "cell_type": "code",
   "execution_count": null,
   "metadata": {
    "collapsed": true
   },
   "outputs": [],
   "source": []
  },
  {
   "cell_type": "code",
   "execution_count": null,
   "metadata": {
    "collapsed": true
   },
   "outputs": [],
   "source": []
  }
 ],
 "metadata": {
  "kernelspec": {
   "display_name": "Python [conda env:summit]",
   "language": "python",
   "name": "conda-env-summit-py"
  },
  "language_info": {
   "codemirror_mode": {
    "name": "ipython",
    "version": 3
   },
   "file_extension": ".py",
   "mimetype": "text/x-python",
   "name": "python",
   "nbconvert_exporter": "python",
   "pygments_lexer": "ipython3",
   "version": "3.6.1"
  }
 },
 "nbformat": 4,
 "nbformat_minor": 2
}
