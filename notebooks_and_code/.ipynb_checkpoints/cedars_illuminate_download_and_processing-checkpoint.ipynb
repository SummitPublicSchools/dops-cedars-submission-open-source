{
 "cells": [
  {
   "cell_type": "markdown",
   "metadata": {},
   "source": [
    "# Illuminate to CEDARS Preprocessing for Submission"
   ]
  },
  {
   "cell_type": "markdown",
   "metadata": {},
   "source": [
    "## Imports"
   ]
  },
  {
   "cell_type": "code",
   "execution_count": 1,
   "metadata": {
    "collapsed": true
   },
   "outputs": [],
   "source": [
    "from sps_automation import legacy as sps\n",
    "from sps_automation.utils import configure_selenium_chrome\n",
    "from sps_automation.utils import get_most_recent_file_in_dir\n",
    "from selenium.webdriver.support.ui import Select\n",
    "from selenium.webdriver.common.keys import Keys\n",
    "from selenium.webdriver.support.ui import WebDriverWait\n",
    "from selenium.webdriver.support import expected_conditions as EC\n",
    "from selenium.webdriver.common.by import By\n",
    "from tqdm import tqdm_notebook\n",
    "from os.path import basename\n",
    "import pandas as pd\n",
    "import time\n",
    "import datetime as dt\n",
    "import os\n",
    "import zipfile\n",
    "import paramiko\n",
    "import numpy as np\n",
    "\n",
    "\n",
    "conf = sps.load_config('../config/config.ini')"
   ]
  },
  {
   "cell_type": "markdown",
   "metadata": {},
   "source": [
    "## Download Files from Illuminate"
   ]
  },
  {
   "cell_type": "code",
   "execution_count": 2,
   "metadata": {
    "collapsed": true
   },
   "outputs": [],
   "source": [
    "# Folder options for naming and file paths\n",
    "folder_date = dt.date.today().strftime('%Y%m%d')\n",
    "school_site = '_0000_'\n",
    "date_and_year = '_' + folder_date + '_20172018'\n",
    "folder_stem = school_site + 'CEDARS' + date_and_year"
   ]
  },
  {
   "cell_type": "code",
   "execution_count": 3,
   "metadata": {
    "collapsed": true
   },
   "outputs": [],
   "source": [
    "# A list of dictionaries with the names of the files, the url to get to the report, the stem in the file name, and the \n",
    "# Illuminate download name\n",
    "reports = [\n",
    "    {'name':'2017-2018 CEDARS A. Locations',\n",
    "        'url':'https://summitwa.illuminateed.com/live/?report_id=3535&page=ReportsCreatorState',\n",
    "         'file_stem':school_site + 'Location' + date_and_year},\n",
    "    {'name':'2017-2018 CEDARS B. District Students (NEW)',\n",
    "        'url':'https://summitwa.illuminateed.com/live/?report_id=3468&page=ReportsCreatorState',\n",
    "         'file_stem':school_site + 'DistrictStudent' + date_and_year},\n",
    "    {'name':'2017-2018 CEDARS C. School Students',\n",
    "        'url':'https://summitwa.illuminateed.com/live/?report_id=3410&page=ReportsCreatorState',\n",
    "         'file_stem':school_site + 'SchoolStudent' + date_and_year},\n",
    "    {'name':'2017-2018 CEDARS D. Course Catalog',\n",
    "        'url':'https://summitwa.illuminateed.com/live/?report_id=3582&page=ReportsCreatorState',\n",
    "         'file_stem':school_site + 'CourseCatalog' + date_and_year},\n",
    "    {'name':'2017-2018 CEDARS E. Student Schedule',\n",
    "        'url':'https://summitwa.illuminateed.com/live/?report_id=3331&page=ReportsCreatorState',\n",
    "         'file_stem':school_site + 'StudentSchedule' + date_and_year},\n",
    "    {'name':'2017-2018 CEDARS F. Staff',\n",
    "        'url':'https://summitwa.illuminateed.com/live/?report_id=3332&page=ReportsCreatorState',\n",
    "         'file_stem':school_site + 'Staff' + date_and_year},\n",
    "    {'name':'2017-2018 CEDARS G. Staff Schedule',\n",
    "        'url':'https://summitwa.illuminateed.com/live/?report_id=3467&page=ReportsCreatorState',\n",
    "         'file_stem':school_site + 'StaffSchedule' + date_and_year},\n",
    "    {'name':'CEDARS H. Student Grade History (NEW)',\n",
    "        'url':'https://summitwa.illuminateed.com/live/?action=studentGradeHistory&page=StateReporting_Wa_Cedars',\n",
    "         'file_stem':school_site + 'StudentGradeHistory' + date_and_year},\n",
    "    {'name':'2017-2018 CEDARS I. Student Programs',\n",
    "        'url':'https://summitwa.illuminateed.com/live/?report_id=3465&page=ReportsCreatorState',\n",
    "         'file_stem':school_site + 'StudentPrograms' + date_and_year},\n",
    "    {'name':'2017-2018 CEDARS J. English Learners',\n",
    "        'url':'https://summitwa.illuminateed.com/live/?report_id=3594&page=ReportsCreatorState',\n",
    "         'file_stem':school_site + 'BilingualPrograms' + date_and_year},\n",
    "    {'name':'2017-2018 CEDARS K. Student Special Ed',\n",
    "        'url':'https://summitwa.illuminateed.com/live/?report_id=3624&page=ReportsCreatorState',\n",
    "         'file_stem':school_site + 'SpecEdPrograms' + date_and_year},\n",
    "    {'name':'2017-2018 CEDARS L. Student Ethnicity',\n",
    "        'url':'https://summitwa.illuminateed.com/live/?report_id=3333&page=ReportsCreatorState',\n",
    "         'file_stem':school_site + 'StudentEthnicity' + date_and_year},\n",
    "    {'name':'2017-2018 CEDARS M. Student Race',\n",
    "        'url':'https://summitwa.illuminateed.com/live/?report_id=3466&page=ReportsCreatorState',\n",
    "         'file_stem':school_site + 'StudentRace' + date_and_year},\n",
    "    {'name':'2017-2018 CEDARS N. Student Absence',\n",
    "        'url':'https://summitwa.illuminateed.com/live/?report_id=3456&page=ReportsCreatorState',\n",
    "         'file_stem':school_site + 'StudentAbsence' + date_and_year},\n",
    "    {'name':'2017-2018 CEDARS P. Student Discipline',\n",
    "        'url':'https://summitwa.illuminateed.com/live/?report_id=3595&page=ReportsCreatorState',\n",
    "         'file_stem':school_site + 'StudentDiscipline' + date_and_year},\n",
    "    {'name':'2017-2018 CEDARS Q. Learning Assistance Program Student Growth',\n",
    "        'url':'https://summitwa.illuminateed.com/live/?report_id=3577&page=ReportsCreatorState',\n",
    "         'file_stem':school_site + 'LAPStudentGrowth' + date_and_year},\n",
    "]\n"
   ]
  },
  {
   "cell_type": "code",
   "execution_count": 4,
   "metadata": {
    "collapsed": true
   },
   "outputs": [],
   "source": [
    "# School options\n",
    "schools = [\n",
    "    {'name':'Summit Public School: Atlas', 'option':'13', 'id':'17905', 'folder':'17905' + folder_stem},\n",
    "    {'name':'Summit Public School: Olympus', 'option':'12', 'id':'27905', 'folder':'27905' + folder_stem},\n",
    "    {'name':'Summit Public School: Sierra', 'option':'11', 'id':'17902', 'folder':'17902' + folder_stem}\n",
    "]"
   ]
  },
  {
   "cell_type": "code",
   "execution_count": 5,
   "metadata": {
    "collapsed": true
   },
   "outputs": [],
   "source": [
    "# Logs in to Illuminate\n",
    "def login_to_illuminate_selenium(driver, host, username, password):\n",
    "    sign_in_url = host + '/live/?prev_page=Main_NotDashboardPage&page=SisLogin'\n",
    "    driver.get(sign_in_url)\n",
    "    time.sleep(5)\n",
    "    assert \"Illuminate Education\" in driver.title\n",
    "    elem = driver.find_element_by_id(\"username\")\n",
    "    elem.clear()\n",
    "    elem.send_keys(username)\n",
    "    elem = driver.find_element_by_id(\"password\")\n",
    "    elem.send_keys(password)\n",
    "    elem.send_keys(Keys.RETURN) # actuate the 'next' key that shows which school site to log in to\n",
    "    time.sleep(3)\n",
    "    elem = driver.find_element_by_id(\"button_login\") # actuate the 'login' key (we can just log in using the default site)\n",
    "    elem.click()\n",
    "    time.sleep(3)"
   ]
  },
  {
   "cell_type": "code",
   "execution_count": 6,
   "metadata": {
    "collapsed": true
   },
   "outputs": [],
   "source": [
    "# Waits a certain amount of time until a specific file is in a folder given the file path\n",
    "def wait_for_new_file_in_folder(file_path, wait):\n",
    "    \"\"\" Waits until a specific file shows up in a folder.\n",
    "    \"\"\"\n",
    "    file_found = False\n",
    "    start = time.time()\n",
    "    while True:\n",
    "        stop = time.time()\n",
    "        time_elapsed = start - stop\n",
    "        if time_elapsed < wait:\n",
    "            if os.path.isfile(file_path):\n",
    "                time.sleep(1)\n",
    "                break\n",
    "            else:\n",
    "                continue\n",
    "        else:\n",
    "            print('error: timed out')\n",
    "            break\n",
    "    "
   ]
  },
  {
   "cell_type": "code",
   "execution_count": 7,
   "metadata": {
    "collapsed": true
   },
   "outputs": [],
   "source": [
    "# Downloads one CEDARS file for one school\n",
    "def download_one_CEDARS_file(driver, file, school, download_folder, school_folder):\n",
    "    # Go to the report\n",
    "    driver.get(file['url'])\n",
    "    \n",
    "    # Choose the school \n",
    "    try:\n",
    "        schoolSelect = Select(driver.find_element_by_id('SITE_ID'))\n",
    "    except:\n",
    "        schoolSelect = Select(driver.find_element_by_id('site_id'))\n",
    "    schoolSelect.select_by_value(str(school['option']))\n",
    "    \n",
    "    # Choose the academic year\n",
    "    schoolyear_option = '2018'\n",
    "    try:\n",
    "        yearSelect = Select(driver.find_element_by_id('ACADEMIC_YEAR'))\n",
    "    except:\n",
    "        yearSelect = Select(driver.find_element_by_id('academic_year'))\n",
    "    yearSelect.select_by_value(str(schoolyear_option))\n",
    "    \n",
    "    # Choose date if option is there\n",
    "    try:\n",
    "        as_of_date = dt.date.today().strftime('%m/%d/%Y') \n",
    "        elem = driver.find_element_by_id('AS_OF_DATE')\n",
    "        elem.click()\n",
    "        elem.send_keys(as_of_date)\n",
    "        time.sleep(2)\n",
    "    except:\n",
    "        pass\n",
    "    \n",
    "    # Generate report\n",
    "    elem = driver.find_element_by_id('form_submit')\n",
    "    elem.click()\n",
    "    time.sleep(8)\n",
    "    \n",
    "    # Download the file\n",
    "    try:\n",
    "        # Click on 'More...' for the download\n",
    "        div_class = 'dataTables_wrapper form-inline'\n",
    "        div_class_2 = 'row_fluid'\n",
    "        button_class = 'btn btn-mini datatable-more-downloads'\n",
    "        #xpath = \"//div[@class='\" + div_class + \"']/div[@class='\" + div_class_2 + \"'//button[@class='\" + button_class + \"']\"\n",
    "        xpath = \"//div[@class='\" + div_class + \"']//button[1]\"\n",
    "        elem = WebDriverWait(driver, 10).until(EC.presence_of_element_located((By.XPATH, xpath)))\n",
    "        elem.click()\n",
    "        time.sleep(2)\n",
    "\n",
    "        # Choose CEDARS or tab delimited with header\n",
    "        try: \n",
    "            xpath = \"//input[@value='Cedars']\"\n",
    "            elem = WebDriverWait(driver, 5).until(EC.presence_of_element_located((By.XPATH, xpath)))\n",
    "            elem.click()\n",
    "        except:\n",
    "            elem = driver.find_element_by_link_text('Delimited')\n",
    "            elem.click()\n",
    "        time.sleep(2)\n",
    "\n",
    "        # Click download\n",
    "        xpath = \"//input[@value='Download']\"\n",
    "        elem = WebDriverWait(driver, 5).until(EC.presence_of_element_located((By.XPATH, xpath)))\n",
    "        elem.click() \n",
    "        \n",
    "        # Wait until file is downloaded (built in exception for edge case of file h)\n",
    "        if file['name'] == 'CEDARS H. Student Grade History (NEW)':\n",
    "            time.sleep(10)\n",
    "        else:\n",
    "            wait_for_new_file_in_folder(download_folder + '/' + file['file_stem'] + '.txt', 10)\n",
    "        \n",
    "    except:\n",
    "        raise\n",
    "    \n",
    "    # Rename the file\n",
    "    recent_file = get_most_recent_file_in_dir(download_folder)\n",
    "    new_file = school_folder + '/' + school['id'] + file['file_stem'] + '.txt'\n",
    "    os.rename(recent_file, new_file)\n",
    "    \n",
    "    print('- success - ', file['name'])"
   ]
  },
  {
   "cell_type": "code",
   "execution_count": 8,
   "metadata": {
    "collapsed": true
   },
   "outputs": [],
   "source": [
    "# Downloads all CEDARS files for one school\n",
    "def download_one_school(driver, reports, school, download_folder):\n",
    "    print('Downloading files for ', school['name'], ' . . .')\n",
    "    # Create school folder or ignore if it exists\n",
    "    school_folder = download_folder + '/' + school['folder']\n",
    "    os.makedirs(school_folder, exist_ok=True)\n",
    "    \n",
    "    # Download all the files\n",
    "    for file in tqdm_notebook(reports, total=len(reports)):\n",
    "        download_one_CEDARS_file(driver, file, school, download_folder, school_folder)\n",
    "    print('-----------------------')"
   ]
  },
  {
   "cell_type": "code",
   "execution_count": 9,
   "metadata": {
    "collapsed": true
   },
   "outputs": [],
   "source": [
    "# Downloads all CEDARS files for all schools\n",
    "def download_all_schools(driver, reports, schools, download_folder):  \n",
    "    # Download files for each school\n",
    "    for school in tqdm_notebook(schools, total=len(schools)):\n",
    "        download_one_school(driver, reports, school, download_folder)"
   ]
  },
  {
   "cell_type": "code",
   "execution_count": 10,
   "metadata": {
    "collapsed": true
   },
   "outputs": [],
   "source": [
    "# Create today's download folder or ignore if it exists\n",
    "download_folder = '../data/SY18/' + folder_stem[13:]\n",
    "os.makedirs(download_folder, exist_ok=True)"
   ]
  },
  {
   "cell_type": "code",
   "execution_count": 11,
   "metadata": {
    "collapsed": true
   },
   "outputs": [],
   "source": [
    "# Start Chrome driver\n",
    "driver = configure_selenium_chrome(download_folder)"
   ]
  },
  {
   "cell_type": "code",
   "execution_count": 12,
   "metadata": {
    "collapsed": true
   },
   "outputs": [],
   "source": [
    "# Login to Illuminate\n",
    "login_to_illuminate_selenium(driver, 'https://summitwa.illuminateed.com',\n",
    "                                    'dataopsadmin', '9BmhBjAmGIga')"
   ]
  },
  {
   "cell_type": "code",
   "execution_count": 13,
   "metadata": {},
   "outputs": [
    {
     "data": {
      "application/vnd.jupyter.widget-view+json": {
       "model_id": "8fd7f29b553a452ba1ecb28b6066a893"
      }
     },
     "metadata": {},
     "output_type": "display_data"
    },
    {
     "name": "stdout",
     "output_type": "stream",
     "text": [
      "Downloading files for  Summit Public School: Atlas  . . .\n"
     ]
    },
    {
     "data": {
      "application/vnd.jupyter.widget-view+json": {
       "model_id": "9a8dc72b669b48a287100bd4b6b9fb44"
      }
     },
     "metadata": {},
     "output_type": "display_data"
    },
    {
     "name": "stdout",
     "output_type": "stream",
     "text": [
      "- success -  2017-2018 CEDARS A. Locations\n",
      "- success -  2017-2018 CEDARS B. District Students (NEW)\n",
      "- success -  2017-2018 CEDARS C. School Students\n",
      "- success -  2017-2018 CEDARS D. Course Catalog\n",
      "- success -  2017-2018 CEDARS E. Student Schedule\n",
      "- success -  2017-2018 CEDARS F. Staff\n",
      "- success -  2017-2018 CEDARS G. Staff Schedule\n",
      "- success -  CEDARS H. Student Grade History (NEW)\n",
      "- success -  2017-2018 CEDARS I. Student Programs\n",
      "- success -  2017-2018 CEDARS J. English Learners\n",
      "- success -  2017-2018 CEDARS K. Student Special Ed\n",
      "- success -  2017-2018 CEDARS L. Student Ethnicity\n",
      "- success -  2017-2018 CEDARS M. Student Race\n",
      "- success -  2017-2018 CEDARS N. Student Absence\n",
      "- success -  2017-2018 CEDARS P. Student Discipline\n",
      "- success -  2017-2018 CEDARS Q. Learning Assistance Program Student Growth\n",
      "-----------------------\n",
      "Downloading files for  Summit Public School: Olympus  . . .\n"
     ]
    },
    {
     "data": {
      "application/vnd.jupyter.widget-view+json": {
       "model_id": "012ffd4728f8490a9ecc25f2b8276b84"
      }
     },
     "metadata": {},
     "output_type": "display_data"
    },
    {
     "name": "stdout",
     "output_type": "stream",
     "text": [
      "- success -  2017-2018 CEDARS A. Locations\n",
      "- success -  2017-2018 CEDARS B. District Students (NEW)\n",
      "- success -  2017-2018 CEDARS C. School Students\n",
      "- success -  2017-2018 CEDARS D. Course Catalog\n",
      "- success -  2017-2018 CEDARS E. Student Schedule\n",
      "- success -  2017-2018 CEDARS F. Staff\n",
      "- success -  2017-2018 CEDARS G. Staff Schedule\n",
      "- success -  CEDARS H. Student Grade History (NEW)\n",
      "- success -  2017-2018 CEDARS I. Student Programs\n",
      "- success -  2017-2018 CEDARS J. English Learners\n",
      "- success -  2017-2018 CEDARS K. Student Special Ed\n",
      "- success -  2017-2018 CEDARS L. Student Ethnicity\n",
      "- success -  2017-2018 CEDARS M. Student Race\n",
      "- success -  2017-2018 CEDARS N. Student Absence\n",
      "- success -  2017-2018 CEDARS P. Student Discipline\n",
      "- success -  2017-2018 CEDARS Q. Learning Assistance Program Student Growth\n",
      "-----------------------\n",
      "Downloading files for  Summit Public School: Sierra  . . .\n"
     ]
    },
    {
     "data": {
      "application/vnd.jupyter.widget-view+json": {
       "model_id": "a902abf25cf542d19df1bb061b18097b"
      }
     },
     "metadata": {},
     "output_type": "display_data"
    },
    {
     "name": "stdout",
     "output_type": "stream",
     "text": [
      "- success -  2017-2018 CEDARS A. Locations\n",
      "- success -  2017-2018 CEDARS B. District Students (NEW)\n",
      "- success -  2017-2018 CEDARS C. School Students\n",
      "- success -  2017-2018 CEDARS D. Course Catalog\n",
      "- success -  2017-2018 CEDARS E. Student Schedule\n",
      "- success -  2017-2018 CEDARS F. Staff\n",
      "- success -  2017-2018 CEDARS G. Staff Schedule\n",
      "- success -  CEDARS H. Student Grade History (NEW)\n",
      "- success -  2017-2018 CEDARS I. Student Programs\n",
      "- success -  2017-2018 CEDARS J. English Learners\n",
      "- success -  2017-2018 CEDARS K. Student Special Ed\n",
      "- success -  2017-2018 CEDARS L. Student Ethnicity\n",
      "- success -  2017-2018 CEDARS M. Student Race\n",
      "- success -  2017-2018 CEDARS N. Student Absence\n",
      "- success -  2017-2018 CEDARS P. Student Discipline\n",
      "- success -  2017-2018 CEDARS Q. Learning Assistance Program Student Growth\n",
      "-----------------------\n",
      "\n"
     ]
    }
   ],
   "source": [
    "# Download the files\n",
    "download_all_schools(driver, reports, schools, download_folder)"
   ]
  },
  {
   "cell_type": "code",
   "execution_count": 14,
   "metadata": {
    "collapsed": true
   },
   "outputs": [],
   "source": [
    "# Close the driver\n",
    "driver.close()"
   ]
  },
  {
   "cell_type": "markdown",
   "metadata": {},
   "source": [
    "## Load files into dataframes and process"
   ]
  },
  {
   "cell_type": "markdown",
   "metadata": {},
   "source": [
    "### DistrictStudent file processing"
   ]
  },
  {
   "cell_type": "code",
   "execution_count": 15,
   "metadata": {
    "collapsed": true
   },
   "outputs": [],
   "source": [
    "# District file columns arrangement\n",
    "district_col = ['SchoolYear', 'ServingCountyDistrictCode', 'ResidentCountyDistrictCode', 'DistrictStudentId', \n",
    "                'SSID', 'LastName', 'FirstName', 'MiddleName', 'BirthDate', 'Birth Country', 'CSRSEthnicityCode', \n",
    "                'Gender', 'Grade Level', 'District Enrollment Date', 'District Exit Date', 'DisabilityCode', \n",
    "                'PrimaryLanguageCode', 'LanguageSpokenAtHome', 'SSN', 'ZipCode', 'IsHomeless', \n",
    "                'IsApprovedPrivateSchoolStudentAttendingPartTime', 'IsHomeBasedStudentAttendingPartTime', \n",
    "                'IsF1VisaForeignExchangeStudent', 'IsStudentInFosterCare', 'GradRequirementsYear', 'ExpectedGradYear',\n",
    "                'Gpa', 'Credits Attempted', 'Credits Earned', 'IsStudentImmigrant', 'InitialUsaPlacementDate', \n",
    "                'NumMonthsUSAttendance', 'NumMonthsNonUSFormalEducation', 'MilitaryFamilyIndicator', \n",
    "                'PreferredLastName', 'PreferredFirstName'\n",
    "]"
   ]
  },
  {
   "cell_type": "markdown",
   "metadata": {},
   "source": [
    "#### Temporary fix for Richwine district transfer enrollment issue"
   ]
  },
  {
   "cell_type": "code",
   "execution_count": 16,
   "metadata": {
    "collapsed": true
   },
   "outputs": [],
   "source": [
    "# # Olympus district enrollment data\n",
    "# richwine_olympus_enrollment = [['2018', '27905', '27905', '120251', '9234819703', 'Richwine', 'Kahleb', 'James', '05/25/2001', \n",
    "#                       'USA', np.nan, 'M', '11', '08/22/2017', '01/02/2018', np.nan, 639, 639, np.nan, '98390', 'N',\n",
    "#                       '0', '0', 'N', np.nan, 2019, '2019', 1.897, 12.125, 9.5, np.nan, '09/05/2006', np.nan,\n",
    "#                       np.nan, 'Z', 'Richwine', 'Kahleb']]\n",
    "# # Turn that into a df\n",
    "# df_richwine_olympus_enroll = pd.DataFrame(richwine_olympus_enrollment, columns=district_col)\n",
    "\n",
    "\n",
    "# # Sierra district enrollment data\n",
    "# richwine_sierra_enrollment = [['2018', '17902', '17902', '120251', '9234819703', 'Richwine', 'Kahleb', 'James', '05/25/2001', \n",
    "#                       'USA', np.nan, 'M', '11', '01/03/2018', np.nan, np.nan, 639, 639, np.nan, '98390', 'N',\n",
    "#                       '0', '0', 'N', np.nan, 2019, '2019', 1.897, 12.125, 9.5, np.nan, '09/05/2006', np.nan,\n",
    "#                       np.nan, 'Z', 'Richwine', 'Kahleb']]\n",
    "# # Turn that into a df\n",
    "# df_richwine_sierra_enroll = pd.DataFrame(richwine_sierra_enrollment, columns=district_col)"
   ]
  },
  {
   "cell_type": "markdown",
   "metadata": {},
   "source": [
    "#### Temporary fix for Avitia SPED Contract exception"
   ]
  },
  {
   "cell_type": "code",
   "execution_count": 17,
   "metadata": {
    "collapsed": true
   },
   "outputs": [],
   "source": [
    "# Atlas district enrollment data\n",
    "avitia_atlas_enrollment = [['2018', '17905', '17401', '130175', '6876003366', 'Avitia', 'Edward', 'Todd', '05/25/2002', \n",
    "                      'USA', np.nan, 'M', '9', '08/22/2017', np.nan, np.nan, 639, 639, np.nan, '981988726', 'N',\n",
    "                      '0', '0', 'N', np.nan, 2021, '2021', np.nan, 0, 0, np.nan, '11/01/2015', np.nan,\n",
    "                      np.nan, 'Z', 'Avitia', 'Edward']]\n",
    "# Turn that into a df\n",
    "df_avitia_atlas_enroll = pd.DataFrame(avitia_atlas_enrollment, columns=district_col)\n",
    "\n",
    "\n",
    "# Olympus district enrollment data\n",
    "avitia_olympus_enrollment = [['2018', '27905', '17401', '130175', '6876003366', 'Avitia', 'Edward', 'Todd', '05/25/2002', \n",
    "                      'USA', np.nan, 'M', '9', '02/06/2017', '04/04/2018', np.nan, 639, 639, np.nan, '981988726', 'N',\n",
    "                      '0', '0', 'N', np.nan, 2021, '2021', np.nan, 0, 0, np.nan, '11/01/2015', np.nan,\n",
    "                      np.nan, 'Z', 'Avitia', 'Edward']]\n",
    "# Turn that into a df\n",
    "df_avitia_olympus_enroll = pd.DataFrame(avitia_olympus_enrollment, columns=district_col)"
   ]
  },
  {
   "cell_type": "markdown",
   "metadata": {},
   "source": [
    "#### Implement fixes"
   ]
  },
  {
   "cell_type": "code",
   "execution_count": 18,
   "metadata": {},
   "outputs": [],
   "source": [
    "# Load in each school's district file into a dataframe\n",
    "for school in schools:\n",
    "    school_folder = download_folder + '/' + school['folder']\n",
    "    for root, dirs, files in os.walk(school_folder):\n",
    "        for file in files:\n",
    "            \n",
    "            # Read in file\n",
    "            if 'DistrictStudent' in file:\n",
    "                district_file = school_folder + '/' + file\n",
    "                df_district = pd.read_csv(district_file, sep='\\t')\n",
    "            else:\n",
    "                continue\n",
    "            \n",
    "            # Apply the enrollment fixes\n",
    "            \n",
    "#             # Replace Richwine Olympus enrollment\n",
    "#             if school['name'] == 'Summit Public School: Olympus':\n",
    "#                 # Ensure id is a string\n",
    "#                 df_district['DistrictStudentId'] = df_district['DistrictStudentId'].apply(str)\n",
    "#                 # Drop the incorrect enrollment\n",
    "#                 df_district.drop(df_district[df_district['DistrictStudentId'] == '120251'].index, inplace=True)\n",
    "#                 # Add the correct enrollment\n",
    "#                 df_district = df_district.append(df_richwine_olympus_enroll) \n",
    "#             # Add Richwine Sierra enrollment\n",
    "#             if school['name'] == 'Summit Public School: Sierra':\n",
    "#                 # Add the correct enrollment\n",
    "#                 df_district = df_district.append(df_richwine_sierra_enroll)\n",
    "                \n",
    "            # Replace Avitia Atlas enrollment\n",
    "            if school['name'] == 'Summit Public School: Atlas':\n",
    "                # Ensure id is a string\n",
    "                df_district['DistrictStudentId'] = df_district['DistrictStudentId'].apply(str)\n",
    "                # Drop the incorrect enrollment\n",
    "                df_district.drop(df_district[df_district['DistrictStudentId'] == '130175'].index, inplace=True)\n",
    "                # Add the correct enrollment\n",
    "                df_district = df_district.append(df_avitia_atlas_enroll)\n",
    "            # Add Avitia Olympus enrollment\n",
    "            if school['name'] == 'Summit Public School: Olympus':\n",
    "                # Add the correct enrollment\n",
    "                df_district = df_district.append(df_avitia_olympus_enroll)            \n",
    "                \n",
    "                \n",
    "            # Reorder columns\n",
    "            df_district = df_district[district_col]\n",
    "            \n",
    "            # Fill nan with empty\n",
    "            df_district = df_district.fillna(\"\")\n",
    "            \n",
    "            # Write files to txt (this write fixes issue with decimal values when nans are present in an integer column)\n",
    "            with open(district_file, 'wb') as fh:\n",
    "                header = df_district.columns.tolist()\n",
    "                fh.write(\"{}\\n\".format('\\t'.join(header)).encode('latin-1'))\n",
    "                for row in df_district.values.tolist():\n",
    "                    row_mod = list(map(str, row))\n",
    "                    row_mod[25] = row_mod[25].split(\".\")[0]\n",
    "                    row_mod[26] = row_mod[26].split(\".\")[0]\n",
    "                    row_mod[33] = row_mod[33].split(\".\")[0]\n",
    "    \n",
    "                    fh.write(\"{}\\n\".format('\\t'.join(row_mod)).encode('latin-1'))"
   ]
  },
  {
   "cell_type": "markdown",
   "metadata": {},
   "source": [
    "### SchoolStudent file processing"
   ]
  },
  {
   "cell_type": "code",
   "execution_count": 19,
   "metadata": {
    "collapsed": true
   },
   "outputs": [],
   "source": [
    "# # School file columns arrangement\n",
    "# schoolstu_col = ['SchoolYear', 'ServingCountyDistrictCode', 'DistrictStudentId', 'SSID', 'LocationId', \n",
    "#                  'SchoolEnrollmentDate', 'SchoolEntryCode', 'SchoolExitDate', 'SchoolWithdrawalCode', \n",
    "#                  'IsPrimarySchool', 'SchoolChoiceCode', 'CumulativeDaysPresent', 'NumUnexcusedAbsence'\n",
    "# ]"
   ]
  },
  {
   "cell_type": "code",
   "execution_count": 20,
   "metadata": {
    "collapsed": true
   },
   "outputs": [],
   "source": [
    "# # Load in each school's school file into a dataframe\n",
    "# for school in schools:\n",
    "#     school_folder = download_folder + '/' + school['folder']\n",
    "#     for root, dirs, files in os.walk(school_folder):\n",
    "#         for file in files:\n",
    "            \n",
    "#             # Read in file\n",
    "#             if 'SchoolStudent' in file:\n",
    "#                 schoolstu_file = school_folder + '/' + file\n",
    "#                 df_schoolstu = pd.read_csv(schoolstu_file, sep='\\t')\n",
    "#             else:\n",
    "#                 continue\n",
    "                \n",
    "#             # Reorder columns\n",
    "#             df_schoolstu = df_schoolstu[schoolstu_col]\n",
    "            \n",
    "#             # Fill nan with empty\n",
    "#             df_schoolstu = df_schoolstu.fillna(\"\")\n",
    "            \n",
    "#             # Write files to txt (this write fixes issue with decimal values when nans are present in an integer column)\n",
    "#             with open(schoolstu_file, 'wb') as fh:\n",
    "#                 header = df_schoolstu.columns.tolist()\n",
    "#                 fh.write(\"{}\\n\".format('\\t'.join(header)).encode('latin-1'))\n",
    "#                 for row in df_schoolstu.values.tolist():\n",
    "#                     row_mod = list(map(str, row))\n",
    "#                     row_mod[10] = row_mod[10].split(\".\")[0]\n",
    "#                     row_mod[11] = row_mod[11].split(\".\")[0]\n",
    "    \n",
    "#                     fh.write(\"{}\\n\".format('\\t'.join(row_mod)).encode('latin-1'))"
   ]
  },
  {
   "cell_type": "markdown",
   "metadata": {},
   "source": [
    "### StudentDiscipline file processing"
   ]
  },
  {
   "cell_type": "code",
   "execution_count": 21,
   "metadata": {
    "collapsed": true
   },
   "outputs": [],
   "source": [
    "# Discipline file columns arrangement\n",
    "discipline_col = ['SchoolYear', 'ServingCountyDistrictCode', 'DistrictStudentId', 'SSID',\n",
    "       'LocationId', 'IncidentDate', 'BehaviorCode', 'InterventionDate',\n",
    "       'InterventionApplied', 'NumInterventionDays', 'IncidentID',\n",
    "       'WeaponType', 'IAES', 'EmergencyExp', 'EEConversionDays',\n",
    "       'OtherBehaviors', 'AcademicServices', 'BehaviorServices',\n",
    "       'PetitionforReadmission', 'GrantedPetitionforReadmission',\n",
    "       'PetitionforOverOneYear', 'ReengagementMeeting', 'ReengagementPlan',\n",
    "       'Appeal'\n",
    "]\n",
    "\n",
    "# Suspension and expulsion codes\n",
    "sus_and_exp_codes = ['SS', 'LS', 'IS', 'EX', 'EE']"
   ]
  },
  {
   "cell_type": "markdown",
   "metadata": {},
   "source": [
    "#### Temporary manual fix for Element P13 - Interim Alternative Education Setting (IAES)"
   ]
  },
  {
   "cell_type": "markdown",
   "metadata": {},
   "source": [
    "This field should be populated with a 'Y' for any students who are SPED at the time of the Discipline Incident.  Currently, it is not working correctly for some students.  There is a ticket in with Illuminate to fix it but it is unlikely it will be fixed soon.  The Illuminate ticket # is 287256."
   ]
  },
  {
   "cell_type": "code",
   "execution_count": 22,
   "metadata": {
    "collapsed": true
   },
   "outputs": [],
   "source": [
    "def manual_iaes_fix(row):\n",
    "    \"\"\" Manually adds in the 'N' flag in the IAES field for students who are SPED at time of incident \"\"\"\n",
    "    if str(row['DistrictStudentId']) == '130175':  #Avitia\n",
    "        # Hardcode it to Yes\n",
    "        return 'Y'\n",
    "    elif str(row['IAES']) == 'Y':\n",
    "        # Hardcode it to No\n",
    "        return 'N'\n",
    "    else:\n",
    "        # Return whatever is in that field already\n",
    "        return row['IAES']"
   ]
  },
  {
   "cell_type": "code",
   "execution_count": 23,
   "metadata": {
    "collapsed": true
   },
   "outputs": [],
   "source": [
    "def duplicate_fix_prep(row):\n",
    "    \"\"\" Adds a student id and incident id combo column for the manual duplicate fix \"\"\"\n",
    "    return str(row['DistrictStudentId']) + str(row['IncidentID'])"
   ]
  },
  {
   "cell_type": "code",
   "execution_count": 24,
   "metadata": {
    "collapsed": true
   },
   "outputs": [],
   "source": [
    "# Load in each school's discipline file into a dataframe\n",
    "for school in schools:\n",
    "    school_folder = download_folder + '/' + school['folder']\n",
    "    for root, dirs, files in os.walk(school_folder):\n",
    "        for file in files:\n",
    "            \n",
    "            # Read in file\n",
    "            if 'StudentDiscipline' in file:\n",
    "                discipline_file = school_folder + '/' + file\n",
    "                df_discipline = pd.read_csv(discipline_file, sep='\\t')\n",
    "            else:\n",
    "                continue\n",
    "            \n",
    "            # Apply the IAES fix\n",
    "            #df_discipline.rename(columns={'IAES':'IAESv1'}, inplace=True)\n",
    "            df_discipline['IAES'] = df_discipline.apply(manual_iaes_fix, axis=1)\n",
    "            \n",
    "            # Apply a fix to drop duplicate rows (probably stemming from ISE and ISI integration - or lack thereof)\n",
    "            df_discipline['unique_key'] = df_discipline.apply(duplicate_fix_prep, axis=1)\n",
    "            df_discipline.drop_duplicates(subset='unique_key', inplace=True)\n",
    "                \n",
    "            # Reorder columns\n",
    "            df_discipline = df_discipline[discipline_col]\n",
    "            \n",
    "            # Write files to txt\n",
    "            df_discipline.to_csv(discipline_file, sep='\\t', index=False)"
   ]
  },
  {
   "cell_type": "markdown",
   "metadata": {},
   "source": [
    "#### Temporary automated fix for Element P13 - Interim Alternative Education Setting (IAES)"
   ]
  },
  {
   "cell_type": "markdown",
   "metadata": {},
   "source": [
    "This field should be populated with a 'Y' for any students who are SPED at the time of the Discipline Incident.  Currently, it is not working correctly for some students.  There is a ticket in with Illuminate to fix it but it is unlikely it will be fixed soon.  The Illuminate ticket # is 287256."
   ]
  },
  {
   "cell_type": "markdown",
   "metadata": {},
   "source": [
    "The methodology is just to apply the same CEDARS validaton to this field as it will be when it is loaded into CEDARS.  \"StudentDiscipline.IAES (element P13) cannot be blank when the student is reported as receiving Special Education Program services on the StudentDiscipline.IncidentDate (element P06) and StudentDiscipline.InterventionApplied (element P09) is not equal to 'NA'.\""
   ]
  },
  {
   "cell_type": "code",
   "execution_count": null,
   "metadata": {
    "collapsed": true
   },
   "outputs": [],
   "source": []
  },
  {
   "cell_type": "markdown",
   "metadata": {},
   "source": [
    "#### Add AcademicServices, BehaviorServices, ReengagmentMeeting, and Reengagement Plan\n",
    "AcademicServices, BehaviorServices, ReengagmentMeeting, and Reengagement Plan are mandatory fields if the InterventionApplied is a suspension or an expulsion.  Based on Summit-wide behavior policy, this can be unilaterally applied to all suspensions and expulsions."
   ]
  },
  {
   "cell_type": "code",
   "execution_count": 25,
   "metadata": {
    "collapsed": true
   },
   "outputs": [],
   "source": [
    "def add_aca_serv(row):\n",
    "    \"\"\" Makes AcademicServices a 2 for suspensions and expulsions and blank for others \"\"\"\n",
    "    if row['InterventionApplied'] in sus_and_exp_codes:\n",
    "        return 2  # 2 – Student offered Academic Services and participated\n",
    "    else:\n",
    "        return np.nan\n",
    "\n",
    "def add_beh_serv(row):\n",
    "    \"\"\" Makes BehaviorServices a 2 for suspensions and expulsions and blank for others \"\"\"\n",
    "    if row['InterventionApplied'] in sus_and_exp_codes:\n",
    "        return 2  # 2 – Student offered Behavior Services and participated\n",
    "    else:\n",
    "        return np.nan\n",
    "\n",
    "def add_ree_date(row):\n",
    "    \"\"\" Makes the ReengagementMeeting date the same as the InteventionDate \"\"\"\n",
    "    return row['InterventionDate']\n",
    "\n",
    "def add_ree_plan(row):\n",
    "    \"\"\" Makes BehaviorServices a 3 for suspensions and expulsions and blank for others \"\"\"\n",
    "    if row['InterventionApplied'] in sus_and_exp_codes:\n",
    "        return 3  # 3 – Reengagement Plan With Both Academic and Behavior Services\n",
    "    else:\n",
    "        return np.nan"
   ]
  },
  {
   "cell_type": "code",
   "execution_count": 26,
   "metadata": {
    "collapsed": true
   },
   "outputs": [],
   "source": [
    "# Load in each school's discipline file into a dataframe\n",
    "for school in schools:\n",
    "    school_folder = download_folder + '/' + school['folder']\n",
    "    for root, dirs, files in os.walk(school_folder):\n",
    "        for file in files:\n",
    "            \n",
    "            # Read in file\n",
    "            if 'StudentDiscipline' in file:\n",
    "                discipline_file = school_folder + '/' + file\n",
    "                df_discipline = pd.read_csv(discipline_file, sep='\\t')\n",
    "            else:\n",
    "                continue\n",
    "  \n",
    "            # Drop the columns we are concerned with so we can create new ones without conflicting names\n",
    "            df_discipline.drop(labels=['AcademicServices', 'BehaviorServices', \n",
    "                                       'ReengagementMeeting', 'ReengagementPlan'], axis=1)\n",
    "        \n",
    "            # Create new fields and add appropriate values\n",
    "            df_discipline['AcademicServices'] = df_discipline.apply(add_aca_serv, axis=1) \n",
    "            df_discipline['BehaviorServices'] = df_discipline.apply(add_beh_serv, axis=1) \n",
    "            df_discipline['ReengagementMeeting'] = df_discipline.apply(add_ree_date, axis=1) \n",
    "            df_discipline['ReengagementPlan'] = df_discipline.apply(add_ree_plan, axis=1) \n",
    "                \n",
    "            # Reorder columns\n",
    "            df_discipline = df_discipline[discipline_col]\n",
    "            \n",
    "            # Write files to txt\n",
    "            df_discipline.to_csv(discipline_file, sep='\\t', index=False)"
   ]
  },
  {
   "cell_type": "markdown",
   "metadata": {},
   "source": [
    "### StaffSchedule file processing"
   ]
  },
  {
   "cell_type": "markdown",
   "metadata": {},
   "source": [
    "#### Add the TeacherIndicator (G10) as P for all teachers on all sections"
   ]
  },
  {
   "cell_type": "markdown",
   "metadata": {},
   "source": [
    "This was filled in as P for Primary Teacher on all sections in SY17.   Following this convention I am adding that here."
   ]
  },
  {
   "cell_type": "code",
   "execution_count": 27,
   "metadata": {
    "collapsed": true
   },
   "outputs": [],
   "source": [
    "# Staff Schedule file columns arrangement\n",
    "staff_sched_col = ['SchoolYear', 'ServingCountyDistrictCode', 'LocationId', 'StaffId', 'CourseId', 'SectionId',\n",
    "        'Term', 'InstructionStartDate', 'InstructionEndDate', 'TeacherIndicator', 'TermStartDate', 'TermEndDate'\n",
    "]"
   ]
  },
  {
   "cell_type": "code",
   "execution_count": 28,
   "metadata": {
    "collapsed": true
   },
   "outputs": [],
   "source": [
    "# Load in each school's staff schedule file into a dataframe\n",
    "for school in schools:\n",
    "    school_folder = download_folder + '/' + school['folder']\n",
    "    for root, dirs, files in os.walk(school_folder):\n",
    "        for file in files:\n",
    "            \n",
    "            # Read in file\n",
    "            if 'StaffSchedule' in file:\n",
    "                staff_sched_file = school_folder + '/' + file\n",
    "                df_staff_sched = pd.read_csv(staff_sched_file, sep='\\t')\n",
    "            else:\n",
    "                continue\n",
    "            \n",
    "            # Drop the columns we are concerned with so we can create new ones without conflicting names\n",
    "            df_staff_sched.drop(labels=['TeacherIndicator'], axis=1)\n",
    "            \n",
    "            # Create new fields and add appropriate values\n",
    "            df_staff_sched['TeacherIndicator'] = 'P' \n",
    "              \n",
    "            # Reorder columns\n",
    "            df_staff_sched = df_staff_sched[staff_sched_col]\n",
    "            \n",
    "            # Write files to txt\n",
    "            df_staff_sched.to_csv(staff_sched_file, sep='\\t', index=False)"
   ]
  },
  {
   "cell_type": "markdown",
   "metadata": {},
   "source": [
    "## Zip files"
   ]
  },
  {
   "cell_type": "code",
   "execution_count": 29,
   "metadata": {
    "collapsed": true
   },
   "outputs": [],
   "source": [
    "# Zip the files for each school\n",
    "for school in schools:\n",
    "    \n",
    "    # Create the zip\n",
    "    school_folder = download_folder + '/' + school['folder']\n",
    "    zipp = zipfile.ZipFile(school_folder + '.zip','w')\n",
    "    \n",
    "    # Add each file to zip \n",
    "    for root, dirs, files in os.walk(school_folder):\n",
    "        for name in files:\n",
    "            # The basename argument allows you to zip the files at baselevel without parent directories\n",
    "            zipp.write(os.path.join(root, name), basename(os.path.join(root, name))) \n",
    "            \n",
    "    # Close the file\n",
    "    zipp.close()"
   ]
  },
  {
   "cell_type": "markdown",
   "metadata": {
    "collapsed": true
   },
   "source": [
    "## Transfer the files to the SFTP server for submission"
   ]
  },
  {
   "cell_type": "markdown",
   "metadata": {},
   "source": [
    "### Setup SFTP object"
   ]
  },
  {
   "cell_type": "code",
   "execution_count": 30,
   "metadata": {
    "collapsed": true
   },
   "outputs": [],
   "source": [
    "# Create log file\n",
    "paramiko.util.log_to_file('paramiko_log.log')\n",
    "\n",
    "# Set variables for connect_to_sftp() from config file\n",
    "# NOTE: must set port to integer!\n",
    "host = sps.config_section_map(\"CEDARS SFTP\")['host']\n",
    "port = int(sps.config_section_map(\"CEDARS SFTP\")['port'])\n",
    "username = sps.config_section_map(\"CEDARS SFTP\")['username']\n",
    "password = sps.config_section_map(\"CEDARS SFTP\")['password']\n",
    "\n",
    "# Set sftp variable to paramiko SFTP object returned by connect_to_sftp()\n",
    "sftp = sps.connect_to_sftp(host, port, username, password)"
   ]
  },
  {
   "cell_type": "markdown",
   "metadata": {},
   "source": [
    "### Create parameters for files and paths for pushing files to SFTP server"
   ]
  },
  {
   "cell_type": "code",
   "execution_count": 31,
   "metadata": {
    "collapsed": true
   },
   "outputs": [],
   "source": [
    "# Create date and school year combo for file names and folder names\n",
    "#next_year_object = dt.datetime.today() + dt.timedelta(days=365)\n",
    "#next_year = next_year_object.strftime('%Y')\n",
    "#dateyear = dt.datetime.today().strftime('%Y%m%d_%Y') + next_year\n",
    "dateyear = dt.datetime.today().strftime('%Y%m%d_') + sps.config_section_map(\"CEDARS SFTP\")['school_year']\n",
    "\n",
    "\n",
    "# Create a list of files to transfer based on CEDARS naming conventions and today's date\n",
    "schools = sps.config_section_map(\"CEDARS SFTP\")['schools'].split(', ')\n",
    "filenames = []\n",
    "for s in schools:\n",
    "    filenames.append(str(s) + '_0000_CEDARS_' + dateyear + '.zip')\n",
    "\n",
    "# Set SFTP server filepath based off remotepath_folder in config file\n",
    "remotepath_folder = sps.config_section_map(\"CEDARS SFTP\")['remotepath_folder']\n",
    "\n",
    "# Set filepath folder on local machine to localpath_folder designated in config file\n",
    "localpath_folder = sps.config_section_map(\"CEDARS SFTP\")['localpath_folder'] + dateyear + '/'\n",
    "\n",
    "# Create a list of local filepaths based off of the localpath_folder and filenames list\n",
    "localpaths = []\n",
    "for f in filenames:\n",
    "    localpaths.append(os.path.abspath(localpath_folder + f))\n",
    "\n",
    "# Create a list of remote filepaths based off of the remotepath_folder and filenames list\n",
    "remotepaths = []\n",
    "for f in filenames:\n",
    "    remotepaths.append(remotepath_folder + f)"
   ]
  },
  {
   "cell_type": "markdown",
   "metadata": {},
   "source": [
    "### Push files to SFTP"
   ]
  },
  {
   "cell_type": "code",
   "execution_count": 32,
   "metadata": {},
   "outputs": [
    {
     "name": "stdout",
     "output_type": "stream",
     "text": [
      "Success:  /Users/mariopalmisano/Desktop/Summit/cedars/cedars_submission/data/SY18/20180419_20172018/17902_0000_CEDARS_20180419_20172018.zip\n",
      "Success:  /Users/mariopalmisano/Desktop/Summit/cedars/cedars_submission/data/SY18/20180419_20172018/17905_0000_CEDARS_20180419_20172018.zip\n",
      "Success:  /Users/mariopalmisano/Desktop/Summit/cedars/cedars_submission/data/SY18/20180419_20172018/27905_0000_CEDARS_20180419_20172018.zip\n"
     ]
    }
   ],
   "source": [
    "# Push files from localpath_folder to remotepath_folder\n",
    "for i, file in enumerate(localpaths):\n",
    "    sftp.put(file, remotepaths[i])\n",
    "    print('Success: ', file)"
   ]
  },
  {
   "cell_type": "code",
   "execution_count": null,
   "metadata": {
    "collapsed": true
   },
   "outputs": [],
   "source": []
  },
  {
   "cell_type": "code",
   "execution_count": null,
   "metadata": {
    "collapsed": true
   },
   "outputs": [],
   "source": []
  }
 ],
 "metadata": {
  "kernelspec": {
   "display_name": "Python [conda env:summit]",
   "language": "python",
   "name": "conda-env-summit-py"
  },
  "language_info": {
   "codemirror_mode": {
    "name": "ipython",
    "version": 3
   },
   "file_extension": ".py",
   "mimetype": "text/x-python",
   "name": "python",
   "nbconvert_exporter": "python",
   "pygments_lexer": "ipython3",
   "version": "3.6.1"
  }
 },
 "nbformat": 4,
 "nbformat_minor": 2
}
